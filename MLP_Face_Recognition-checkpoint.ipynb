{
 "cells": [
  {
   "cell_type": "markdown",
   "id": "d1c7765a",
   "metadata": {},
   "source": [
    "# MLP Face Recognition using PCA + ANN\n",
    "Dataset: https://github.com/robaita/introduction_to_machine_learning/blob/main/dataset.zip"
   ]
  },
  {
   "cell_type": "code",
   "execution_count": null,
   "id": "070e672d",
   "metadata": {},
   "outputs": [],
   "source": [
    "# Step 1: Import libraries\n",
    "import numpy as np\n",
    "import matplotlib.pyplot as plt\n",
    "from sklearn.model_selection import train_test_split\n",
    "from sklearn.decomposition import PCA\n",
    "from sklearn.neural_network import MLPClassifier\n",
    "import os\n",
    "import cv2"
   ]
  },
  {
   "cell_type": "code",
   "execution_count": null,
   "id": "e59f1e18",
   "metadata": {},
   "outputs": [],
   "source": [
    "# Step 2: Load dataset and create face database\n",
    "dir_name = 'dataset/faces/'  # adjust path to your dataset\n",
    "images = []\n",
    "labels = []\n",
    "label_names = os.listdir(dir_name)\n",
    "\n",
    "for idx, person_name in enumerate(label_names):\n",
    "    person_dir = os.path.join(dir_name, person_name)\n",
    "    if not os.path.isdir(person_dir):\n",
    "        continue\n",
    "    for img_name in os.listdir(person_dir):\n",
    "        img_path = os.path.join(person_dir, img_name)\n",
    "        img = cv2.imread(img_path, cv2.IMREAD_GRAYSCALE)\n",
    "        img_resized = cv2.resize(img, (100, 100))\n",
    "        images.append(img_resized.flatten())\n",
    "        labels.append(idx)\n",
    "\n",
    "images = np.array(images)\n",
    "labels = np.array(labels)\n",
    "print(f\"Dataset loaded: {images.shape[0]} samples.\")"
   ]
  },
  {
   "cell_type": "code",
   "execution_count": null,
   "id": "506b14dd",
   "metadata": {},
   "outputs": [],
   "source": [
    "# Step 3: Split and mean zero\n",
    "X_train, X_test, y_train, y_test = train_test_split(images, labels, test_size=0.4, random_state=42)\n",
    "mean_face = np.mean(X_train, axis=0)\n",
    "X_train_zero = X_train - mean_face\n",
    "X_test_zero = X_test - mean_face"
   ]
  },
  {
   "cell_type": "code",
   "execution_count": null,
   "id": "43a0a0c4",
   "metadata": {},
   "outputs": [],
   "source": [
    "# Step 4: PCA\n",
    "n_components = 50\n",
    "pca = PCA(n_components=n_components, whiten=True, svd_solver='randomized', random_state=42)\n",
    "X_train_pca = pca.fit_transform(X_train_zero)\n",
    "X_test_pca = pca.transform(X_test_zero)\n",
    "print(f\"PCA completed: reduced to {n_components} components.\")"
   ]
  },
  {
   "cell_type": "code",
   "execution_count": null,
   "id": "d698bd1b",
   "metadata": {},
   "outputs": [],
   "source": [
    "# Step 5: ANN\n",
    "clf = MLPClassifier(hidden_layer_sizes=(100,), max_iter=500, random_state=1, verbose=True)\n",
    "clf.fit(X_train_pca, y_train)\n",
    "accuracy = np.mean(clf.predict(X_test_pca) == y_test) * 100\n",
    "print(f\"Recognition Accuracy: {accuracy:.2f}%\")"
   ]
  }
 ],
 "metadata": {},
 "nbformat": 4,
 "nbformat_minor": 5
}
